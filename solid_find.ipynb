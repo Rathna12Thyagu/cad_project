{
 "cells": [
  {
   "cell_type": "code",
   "execution_count": 88,
   "id": "75847d13",
   "metadata": {},
   "outputs": [],
   "source": [
    "from OCC.Core.IGESControl import IGESControl_Reader\n",
    "from OCC.Core.TopExp import TopExp_Explorer\n",
    "from OCC.Core.TopoDS import TopoDS_Compound, TopoDS_Shape\n",
    "from OCC.Core.TopAbs import TopAbs_SOLID, TopAbs_SHELL, TopAbs_FACE\n",
    "\n",
    "reader = IGESControl_Reader()\n",
    "path2 = r\"C:\\Users\\rathn\\Downloads\\new.IGS\" \n",
    "path = r\"C:\\Users\\rathn\\Downloads\\5e66b66e-a0d3-4a95-9824-e0d9914b0089.igs\"\n",
    "status = reader.ReadFile(path)\n",
    "reader.TransferRoots()\n",
    "shape = reader.OneShape()\n"
   ]
  },
  {
   "cell_type": "code",
   "execution_count": 89,
   "id": "aa59eff5",
   "metadata": {},
   "outputs": [
    {
     "data": {
      "text/plain": [
       "(1, 0)"
      ]
     },
     "execution_count": 89,
     "metadata": {},
     "output_type": "execute_result"
    }
   ],
   "source": [
    "status, shape.ShapeType()"
   ]
  },
  {
   "cell_type": "code",
   "execution_count": 90,
   "id": "d4dd724c",
   "metadata": {},
   "outputs": [],
   "source": [
    "from OCC.Core.TopExp import TopExp_Explorer\n",
    "from OCC.Core.TopAbs import TopAbs_FACE\n",
    "from OCC.Core.TopoDS import TopoDS_Face\n",
    "from OCC.Core.TopoDS import TopoDS_Shape\n",
    "\n",
    "# Create the TopExp_Explorer for iterating over faces in the shape\n",
    "explorer = TopExp_Explorer(shape, TopAbs_FACE)\n",
    "faces=[]\n",
    "# Loop through all the faces in the shape\n",
    "while explorer.More():\n",
    "    current_shape = explorer.Current()\n",
    "    if current_shape.ShapeType() == 4:\n",
    "        faces.append(current_shape)\n",
    "        explorer.Next()"
   ]
  },
  {
   "cell_type": "code",
   "execution_count": 91,
   "id": "69b9a4fc",
   "metadata": {},
   "outputs": [
    {
     "data": {
      "text/plain": [
       "[<class 'TopoDS_Face'>,\n",
       " <class 'TopoDS_Face'>,\n",
       " <class 'TopoDS_Face'>,\n",
       " <class 'TopoDS_Face'>,\n",
       " <class 'TopoDS_Face'>]"
      ]
     },
     "execution_count": 91,
     "metadata": {},
     "output_type": "execute_result"
    }
   ],
   "source": [
    "faces[:5]"
   ]
  },
  {
   "cell_type": "code",
   "execution_count": null,
   "id": "5f01b956",
   "metadata": {},
   "outputs": [],
   "source": [
    "from OCC.Core.gp import gp_Pnt\n",
    "from OCC.Core.BRep import BRep_Tool\n",
    "from OCC.Core.TopExp import TopExp_Explorer\n",
    "from OCC.Core.TopAbs import TopAbs_EDGE, TopAbs_VERTEX\n",
    "from OCC.Core.TopoDS import TopoDS_Edge, TopoDS_Vertex\n",
    "import math\n",
    "\n",
    "def are_faces_connected(face1, face2, tolerance=1e-5):\n",
    "    \"\"\"\n",
    "    Check if two faces are connected by a common edge, vertex, or by proximity.\n",
    "    A tolerance is used for proximity checks.\n",
    "    \"\"\"\n",
    "    # Check for shared edges first (as before)\n",
    "    explorer1 = TopExp_Explorer(face1, TopAbs_EDGE)\n",
    "    explorer2 = TopExp_Explorer(face2, TopAbs_EDGE)\n",
    "\n",
    "    while explorer1.More():\n",
    "        edge1 = explorer1.Current()\n",
    "        while explorer2.More():\n",
    "            edge2 = explorer2.Current()\n",
    "            # Check if the edges are exactly equal\n",
    "            if edge1.IsEqual(edge2):\n",
    "                return True\n",
    "            explorer2.Next()\n",
    "        explorer1.Next()\n",
    "\n",
    "    # Check for shared vertices with a small tolerance\n",
    "    explorer1 = TopExp_Explorer(face1, TopAbs_VERTEX)\n",
    "    explorer2 = TopExp_Explorer(face2, TopAbs_VERTEX)\n",
    "    \n",
    "    while explorer1.More():\n",
    "        vertex1 = TopoDS_Vertex(explorer1.Current())\n",
    "        pt1 = BRep_Tool.Pnt(vertex1)\n",
    "        while explorer2.More():\n",
    "            vertex2 = TopoDS_Vertex(explorer2.Current())\n",
    "            pt2 = BRep_Tool.Pnt(vertex2)\n",
    "            # Check if the distance between vertices is smaller than the tolerance\n",
    "            if pt1.Distance(pt2) < tolerance:\n",
    "                return True\n",
    "            explorer2.Next()\n",
    "        explorer1.Next()\n",
    "\n",
    "    # If no shared edges or sufficiently close vertices, faces are not connected\n",
    "    return False\n"
   ]
  },
  {
   "cell_type": "code",
   "execution_count": 93,
   "id": "8598ec70",
   "metadata": {},
   "outputs": [
    {
     "name": "stdout",
     "output_type": "stream",
     "text": [
      "Part with faces: {0, 1, 2, 3, 4, 5, 6, 7, 8, 9, 10, 11, 12, 13, 14, 15, 16, 17, 18, 19, 20, 21, 22, 23, 24, 25, 26, 27, 28, 29, 30, 31, 32, 33, 34, 35, 36, 37, 38, 39, 40, 41, 42, 43, 44, 45, 46, 47, 48, 49, 50, 51, 52, 53, 54, 55, 56, 57, 58, 59, 60, 61, 62, 63, 64, 65, 66, 67, 68, 69, 70, 71, 72, 73, 137, 138, 139, 140, 141, 142, 143, 144, 145, 146, 147, 148, 149, 150, 151, 152, 153, 154, 155, 156, 668, 158, 159, 160, 161, 162, 163, 164, 165, 166, 167, 168, 673, 674, 651, 652, 653, 654, 655, 656, 658, 659, 660, 661, 662, 663, 664, 665, 157, 666, 667, 669, 670, 671, 672, 990, 991, 992, 993, 994, 995, 996, 997, 998, 999, 1001, 1002, 1003, 1004, 1005, 1006, 1007, 1008, 1009, 1010, 1011, 1012, 1013, 1015, 1016, 1017}\n",
      "Part with faces: {74}\n",
      "Part with faces: {75}\n",
      "Part with faces: {76, 77, 80, 81, 82, 83, 84, 85, 86, 90, 91, 92}\n",
      "Part with faces: {78, 79, 87, 89, 93}\n",
      "Part with faces: {124, 119, 88, 121, 122, 123, 120, 125, 126}\n",
      "Part with faces: {96, 97, 98, 99, 100, 101, 102, 103, 104, 105, 106, 107, 108, 109, 94, 95}\n",
      "Part with faces: {110, 111, 112, 113, 114, 115, 116, 117}\n",
      "Part with faces: {118}\n",
      "Part with faces: {127}\n",
      "Part with faces: {128, 129, 130, 133, 134, 135}\n",
      "Part with faces: {131, 132}\n",
      "Part with faces: {136}\n",
      "Part with faces: {169}\n",
      "Part with faces: {170}\n",
      "Part with faces: {171, 172, 173, 174, 178, 181}\n",
      "Part with faces: {175, 176, 177, 179, 180, 185, 186, 187, 188}\n",
      "Part with faces: {182, 183, 184, 189, 190, 191, 192, 193, 194, 195, 196, 197, 198, 199, 200, 201, 202, 203, 204, 205, 206, 207, 208, 209, 210, 211, 212, 213, 214, 215, 216, 217, 218, 219, 220, 221, 222, 223, 224, 225, 226, 227, 228, 229, 230, 231, 232, 233, 234, 235, 236, 237, 238, 239, 240, 241, 242, 243, 244, 245, 254, 255, 256, 258, 260, 261, 262, 263, 264, 265, 266, 267, 268, 269, 270, 271, 272, 273, 274, 275, 276, 277, 278, 279, 280, 281, 282, 283, 284, 285, 286, 287, 288, 289, 290, 291, 292, 293, 294, 295, 296, 297, 298, 299, 336, 337, 338, 339, 340, 341, 342, 343, 344, 345, 346, 347, 348, 353, 354, 355, 356, 357, 358, 363, 364, 365, 366, 368, 369, 370, 371, 372, 383, 384, 385, 386, 387, 388, 389, 390, 391, 392, 393, 394, 395, 396, 397, 398, 399, 400, 401, 402, 403, 404, 405, 406, 407, 408, 409, 410, 411, 412, 413, 414, 415, 416, 417, 418, 419, 420, 421, 422, 423, 424, 425, 426, 427, 428, 429, 430, 431, 432, 433, 434, 435, 436, 437, 438, 439, 440, 441, 442, 443, 444, 445, 446, 447, 448, 449, 450, 451, 452, 453, 454, 455, 456, 457, 458, 459, 460, 461, 462, 463, 464, 465, 466, 467, 468, 469, 470}\n",
      "Part with faces: {300, 301, 302, 251, 303, 314, 246, 247, 249, 250, 315, 253}\n",
      "Part with faces: {248}\n",
      "Part with faces: {252}\n",
      "Part with faces: {257, 259}\n",
      "Part with faces: {304, 305, 306, 307, 308, 309, 310, 311}\n",
      "Part with faces: {312}\n",
      "Part with faces: {367, 373, 374, 375, 313, 378, 379, 380, 382}\n",
      "Part with faces: {320, 321, 322, 323, 324, 325, 326, 327, 328, 329, 330, 331, 333, 335, 316, 317, 318, 319}\n",
      "Part with faces: {332}\n",
      "Part with faces: {334}\n",
      "Part with faces: {349}\n",
      "Part with faces: {350}\n",
      "Part with faces: {351}\n",
      "Part with faces: {352}\n",
      "Part with faces: {359}\n",
      "Part with faces: {360}\n",
      "Part with faces: {361}\n",
      "Part with faces: {362}\n",
      "Part with faces: {376, 377, 381}\n",
      "Part with faces: {471, 472, 473, 475, 476, 477, 478}\n",
      "Part with faces: {474}\n",
      "Part with faces: {479}\n",
      "Part with faces: {512, 513, 514, 515, 516, 517, 518, 519, 520, 521, 522, 523, 524, 525, 526, 527, 529, 531, 532, 533, 534, 535, 536, 537, 538, 539, 540, 542, 543, 544, 545, 568, 569, 570, 571, 572, 573, 574, 576, 577, 578, 579, 480, 481, 482, 483, 484, 485, 486, 487, 488, 489, 490, 491, 492, 493, 494, 495, 496, 497, 498, 499, 500, 501, 502, 503, 504, 505, 506, 507, 508, 509, 510, 511}\n",
      "Part with faces: {528, 530}\n",
      "Part with faces: {541}\n",
      "Part with faces: {546, 547, 548, 549, 550, 551, 552, 553}\n",
      "Part with faces: {554, 555, 556, 557, 558, 559, 560}\n",
      "Part with faces: {561, 562, 563, 564, 565, 566, 567}\n",
      "Part with faces: {575}\n",
      "Part with faces: {580, 581, 582, 583, 584, 585, 586}\n",
      "Part with faces: {587, 588, 589, 590, 591, 592, 593, 594, 595, 596, 597, 598, 600}\n",
      "Part with faces: {599, 1048, 1049, 1050, 1051, 1052, 1053}\n",
      "Part with faces: {1041, 1042, 1043, 1044, 1045, 1046, 601, 602, 603, 604, 605, 606, 607, 608, 609, 610, 611, 612, 614}\n",
      "Part with faces: {613, 1034, 1035, 1036, 1037, 1038, 1039}\n",
      "Part with faces: {615, 616, 617, 618, 619, 629, 630}\n",
      "Part with faces: {640, 641, 642, 643, 644, 645, 646, 647, 648, 649, 650, 804, 805, 806, 807, 808, 809, 810, 811, 812, 813, 814, 815, 816, 817, 818, 819, 620, 621, 622, 623, 624, 625, 626, 627, 628, 631, 632, 633, 634, 635, 636, 637, 638, 639}\n",
      "Part with faces: {657}\n",
      "Part with faces: {1024, 1025, 675, 676, 677, 678, 679, 680, 681, 682, 683, 684, 685, 686, 687, 688, 689, 690, 691, 692, 693, 694, 695, 696, 697, 698, 699, 700, 701, 702, 703, 704, 705, 706, 707, 708, 709, 710, 711, 712, 713, 714, 715, 716, 717, 718, 719, 720, 721, 722, 723, 724, 725, 726, 727, 728, 729, 730, 731, 732, 733, 734, 735, 736, 737, 738, 739, 740, 741, 742, 743, 744, 745, 746, 747, 748, 749, 750, 751, 753, 754, 755, 756, 757, 758, 759, 760, 761, 762, 763, 767, 768, 771, 772, 773, 774, 775, 776, 778, 781, 784, 785, 786, 787, 788, 790, 791, 792, 793, 794, 795, 796, 798, 801, 802, 803, 820, 821, 822, 823, 824, 825, 826, 827, 828, 829, 830, 831, 832, 833, 834, 835, 836, 837, 838, 839, 840, 841, 842, 843, 844, 845, 846, 847, 848, 849, 850, 851, 852, 853, 854, 855, 856, 857, 858, 859, 860, 862, 865, 866, 867, 956, 957, 958, 959, 960, 961, 962, 963, 964, 965, 966, 967, 968, 969, 970, 971, 972, 973, 975, 1018, 1019, 1020, 1021, 1022, 1023}\n",
      "Part with faces: {936, 937, 938, 939, 940, 941, 942, 943, 944, 945, 946, 947, 948, 949, 950, 951, 952, 953, 954, 955, 752}\n",
      "Part with faces: {770, 782, 783, 764, 765, 766}\n",
      "Part with faces: {769, 779, 777}\n",
      "Part with faces: {780}\n",
      "Part with faces: {800, 797, 789, 799}\n",
      "Part with faces: {864, 861, 863}\n",
      "Part with faces: {868}\n",
      "Part with faces: {869, 1131, 1132, 1133, 1134, 1135, 1136, 1137, 1138, 1139, 1140, 1141, 1142, 1143}\n",
      "Part with faces: {1120, 1121, 1122, 1123, 1124, 1125, 870, 1126, 1127, 1128, 1129, 1130, 1118, 1119}\n",
      "Part with faces: {871, 872, 873, 874, 875, 876, 877, 878, 880, 881, 882}\n",
      "Part with faces: {879}\n",
      "Part with faces: {896, 883, 884, 885, 886, 887, 888, 889, 890, 891, 892, 893, 895}\n",
      "Part with faces: {894}\n",
      "Part with faces: {897, 898, 899, 900, 901, 902, 903, 904, 905, 906, 907, 909, 910}\n",
      "Part with faces: {908}\n",
      "Part with faces: {911, 912, 913, 914, 915, 916, 917, 918, 920}\n",
      "Part with faces: {919}\n",
      "Part with faces: {921}\n",
      "Part with faces: {922}\n",
      "Part with faces: {923}\n",
      "Part with faces: {924}\n",
      "Part with faces: {925}\n",
      "Part with faces: {928, 926}\n",
      "Part with faces: {930, 927}\n",
      "Part with faces: {929}\n",
      "Part with faces: {931, 933}\n",
      "Part with faces: {932, 935}\n",
      "Part with faces: {934}\n",
      "Part with faces: {974}\n",
      "Part with faces: {976, 977, 978, 979, 980, 981, 982, 983, 984, 985, 986, 987, 989}\n",
      "Part with faces: {988}\n",
      "Part with faces: {1000}\n",
      "Part with faces: {1014}\n",
      "Part with faces: {1026, 1027, 1028, 1029, 1030, 1031, 1032, 1033}\n",
      "Part with faces: {1040}\n",
      "Part with faces: {1047}\n",
      "Part with faces: {1054}\n",
      "Part with faces: {1056, 1057, 1058, 1059, 1060, 1061, 1055}\n",
      "Part with faces: {1062, 1063, 1064, 1065, 1066, 1067, 1068, 1069, 1070, 1071, 1072, 1074, 1075}\n",
      "Part with faces: {1073}\n",
      "Part with faces: {1076, 1077, 1078, 1079, 1080, 1081, 1082, 1083, 1084, 1085, 1086, 1087}\n",
      "Part with faces: {1088}\n",
      "Part with faces: {1089}\n",
      "Part with faces: {1090, 1091, 1092, 1093, 1094, 1095, 1096, 1097, 1098, 1099, 1100, 1101, 1102, 1103}\n",
      "Part with faces: {1104, 1105, 1106, 1107, 1108, 1109, 1110, 1111, 1112, 1113, 1114, 1115, 1116, 1117}\n"
     ]
    }
   ],
   "source": [
    "import networkx as nx\n",
    "\n",
    "# Create a graph where each node represents a face\n",
    "G = nx.Graph()\n",
    "\n",
    "# Add nodes for each face\n",
    "for i, face in enumerate(faces):\n",
    "    G.add_node(i, face=face)\n",
    "\n",
    "# Connect faces that share edges (you would need to check edge/vertex sharing)\n",
    "for i, face1 in enumerate(faces):\n",
    "    for j, face2 in enumerate(faces[i+1:], i+1):\n",
    "        if are_faces_connected(face1, face2):  # You'll need to implement this\n",
    "            G.add_edge(i, j)\n",
    "\n",
    "# Find connected components (each component represents a part)\n",
    "connected_components = list(nx.connected_components(G))\n",
    "\n",
    "# Each connected component is a part\n",
    "for part in connected_components:\n",
    "    print(f\"Part with faces: {part}\")\n"
   ]
  },
  {
   "cell_type": "code",
   "execution_count": 94,
   "id": "e836c280",
   "metadata": {},
   "outputs": [
    {
     "data": {
      "text/plain": [
       "(1144, 101)"
      ]
     },
     "execution_count": 94,
     "metadata": {},
     "output_type": "execute_result"
    }
   ],
   "source": [
    "len(faces),len(connected_components)"
   ]
  },
  {
   "cell_type": "code",
   "execution_count": 95,
   "id": "988cfcde",
   "metadata": {},
   "outputs": [
    {
     "data": {
      "text/plain": [
       "[<class 'TopoDS_Face'>,\n",
       " <class 'TopoDS_Face'>,\n",
       " <class 'TopoDS_Face'>,\n",
       " <class 'TopoDS_Face'>,\n",
       " <class 'TopoDS_Face'>]"
      ]
     },
     "execution_count": 95,
     "metadata": {},
     "output_type": "execute_result"
    }
   ],
   "source": [
    "faces[:5]"
   ]
  },
  {
   "cell_type": "code",
   "execution_count": 96,
   "id": "903b1a29",
   "metadata": {},
   "outputs": [],
   "source": [
    "from OCC.Core.BRep import BRep_Builder\n",
    "from OCC.Core.TopoDS import TopoDS_Compound\n",
    "from OCC.Extend.DataExchange import write_step_file\n",
    "\n",
    "def export_components_to_step(connected_components, faces, prefix=\"component\"):\n",
    "    for i, component in enumerate(connected_components):\n",
    "        compound = TopoDS_Compound()\n",
    "        builder = BRep_Builder()\n",
    "        builder.MakeCompound(compound)\n",
    "        for idx in component:\n",
    "            builder.Add(compound, faces[idx])\n",
    "        \n",
    "        write_step_file(compound, f\"{prefix}_{i}.step\")\n",
    "\n",
    "# Call this:\n",
    "export_components_to_step(connected_components, faces)\n"
   ]
  },
  {
   "cell_type": "code",
   "execution_count": 97,
   "id": "e93ed1bd",
   "metadata": {},
   "outputs": [],
   "source": [
    "from OCC.Core.BRep import BRep_Builder\n",
    "from OCC.Core.TopoDS import TopoDS_Compound\n",
    "from OCC.Extend.DataExchange import write_stl_file\n",
    "\n",
    "def export_components_to_stl(connected_components, faces, prefix=\"component\"):\n",
    "    for i, component in enumerate(connected_components):\n",
    "        compound = TopoDS_Compound()\n",
    "        builder = BRep_Builder()\n",
    "        builder.MakeCompound(compound)\n",
    "        for idx in component:\n",
    "            builder.Add(compound, faces[idx])\n",
    "        \n",
    "        write_stl_file(compound, f\"stl_compo\\\\{prefix}_{i}.stl\")\n"
   ]
  },
  {
   "cell_type": "code",
   "execution_count": 98,
   "id": "da04b41e",
   "metadata": {},
   "outputs": [],
   "source": [
    "export_components_to_stl(connected_components, faces)"
   ]
  },
  {
   "cell_type": "code",
   "execution_count": 99,
   "id": "57856420",
   "metadata": {},
   "outputs": [
    {
     "data": {
      "text/plain": [
       "(101, 1144)"
      ]
     },
     "execution_count": 99,
     "metadata": {},
     "output_type": "execute_result"
    }
   ],
   "source": [
    "len(connected_components),len(faces)"
   ]
  },
  {
   "cell_type": "code",
   "execution_count": 100,
   "id": "7efaa1ae",
   "metadata": {},
   "outputs": [],
   "source": [
    "import open3d as o3d\n",
    "import os\n",
    "import numpy as np\n",
    "pointclouds = []\n",
    "filenames = []\n",
    "\n",
    "stl_file_path = \"C:\\\\Users\\\\rathn\\\\Downloads\\\\cad_project\\\\stl_compo\"\n",
    "for i in os.listdir(stl_file_path):\n",
    "    filename = stl_file_path+\"\\\\\"+i\n",
    "    mesh = o3d.io.read_triangle_mesh(filename)\n",
    "    if not mesh.has_triangles():\n",
    "        print(f\"Skipping invalid mesh: {filename}\")\n",
    "    mesh.scale(1 / np.max(mesh.get_max_bound() - mesh.get_min_bound()), center=mesh.get_center())\n",
    "\n",
    "    pcd = mesh.sample_points_uniformly(number_of_points=1024)\n",
    "    points = np.asarray(pcd.points)\n",
    "    pointclouds.append(points)\n",
    "    filenames.append(filename)\n"
   ]
  },
  {
   "cell_type": "code",
   "execution_count": 101,
   "id": "70fe7830",
   "metadata": {},
   "outputs": [
    {
     "data": {
      "text/plain": [
       "(101, 1024, 3)"
      ]
     },
     "execution_count": 101,
     "metadata": {},
     "output_type": "execute_result"
    }
   ],
   "source": [
    "pointclouds = np.array(pointclouds)\n",
    "pointclouds.shape"
   ]
  },
  {
   "cell_type": "code",
   "execution_count": 102,
   "id": "ca331b7b",
   "metadata": {},
   "outputs": [],
   "source": [
    "from OCC.Core.STEPControl import STEPControl_Reader\n",
    "from OCC.Core.StlAPI import StlAPI_Writer\n",
    "from OCC.Core.BRepMesh import BRepMesh_IncrementalMesh\n",
    "from OCC.Core.TopExp import TopExp_Explorer\n",
    "from OCC.Core.TopAbs import TopAbs_SOLID\n",
    "from OCC.Core.TopoDS import topods\n",
    "\n",
    "def convert_step_to_stl(step_file_path, stl_output_path, linear_deflection=0.01, angular_deflection=0.5):\n",
    "    # Read STEP file\n",
    "    step_reader = STEPControl_Reader()\n",
    "    status = step_reader.ReadFile(step_file_path)\n",
    "    if status != 1:\n",
    "        raise Exception(\"Error reading STEP file\")\n",
    "\n",
    "    step_reader.TransferRoots()\n",
    "    shape = step_reader.OneShape()\n",
    "\n",
    "    # Mesh the shape\n",
    "    mesh = BRepMesh_IncrementalMesh(shape, linear_deflection, False, angular_deflection, True)\n",
    "    mesh.Perform()\n",
    "\n",
    "    # Export to STL\n",
    "    stl_writer = StlAPI_Writer()\n",
    "    stl_writer.Write(shape, stl_output_path)\n",
    "    print(f\"Saved: {stl_output_path}\")\n"
   ]
  },
  {
   "cell_type": "code",
   "execution_count": 103,
   "id": "68d70269",
   "metadata": {},
   "outputs": [],
   "source": [
    "grndTruth = r\"C:\\Users\\rathn\\Downloads\\abc_0000_step_v00\\00009945\\00009945_086229ea796640d29acd68ff_step_080.step\"\n",
    "outPath = r\"C:\\Users\\rathn\\Downloads\\cad_project\\out.stl\""
   ]
  },
  {
   "cell_type": "code",
   "execution_count": 104,
   "id": "b2c0eca0",
   "metadata": {},
   "outputs": [
    {
     "name": "stdout",
     "output_type": "stream",
     "text": [
      "Saved: C:\\Users\\rathn\\Downloads\\cad_project\\out.stl\n"
     ]
    }
   ],
   "source": [
    "convert_step_to_stl(grndTruth,outPath)"
   ]
  },
  {
   "cell_type": "code",
   "execution_count": 105,
   "id": "eed34276",
   "metadata": {},
   "outputs": [],
   "source": [
    "import open3d as o3d\n",
    "import os\n",
    "import numpy as np\n",
    "\n",
    "\n",
    "gt_file_path = \"C:\\\\Users\\\\rathn\\\\Downloads\\\\cad_project\\\\out.stl\"\n",
    "mesh = o3d.io.read_triangle_mesh(gt_file_path)\n",
    "if not mesh.has_triangles():\n",
    "    print(f\"Skipping invalid mesh: {filename}\")\n",
    "mesh.scale(1 / np.max(mesh.get_max_bound() - mesh.get_min_bound()), center=mesh.get_center())\n",
    "pcd = mesh.sample_points_uniformly(number_of_points=1024)\n",
    "gt_points = np.asarray(pcd.points)\n"
   ]
  },
  {
   "cell_type": "code",
   "execution_count": 110,
   "id": "f5488f71",
   "metadata": {},
   "outputs": [],
   "source": [
    "import numpy as np\n",
    "from scipy.spatial import KDTree\n",
    "\n",
    "def suggest_tolerance_from_pointcloud(points, sample_size=100):\n",
    "    \"\"\"\n",
    "    Suggest a tolerance value based on the average nearest neighbor distance\n",
    "    from a sample of points in the point cloud.\n",
    "\n",
    "    Parameters:\n",
    "    - points: np.ndarray of shape (N, 3), your 3D point cloud\n",
    "    - sample_size: number of points to sample for efficiency\n",
    "\n",
    "    Returns:\n",
    "    - suggested_tolerance: float\n",
    "    \"\"\"\n",
    "    N = points.shape[0]\n",
    "    sample_indices = np.random.choice(N, min(sample_size, N), replace=False)\n",
    "    sampled_points = points[sample_indices]\n",
    "\n",
    "    kdtree = KDTree(points)\n",
    "    distances, _ = kdtree.query(sampled_points, k=2)  # k=2: nearest and self\n",
    "    nearest_neighbor_dists = distances[:, 1]  # skip self-distance at index 0\n",
    "\n",
    "    avg_dist = np.mean(nearest_neighbor_dists)\n",
    "    min_dist = np.min(nearest_neighbor_dists)\n",
    "    max_dist = np.max(nearest_neighbor_dists)\n",
    "\n",
    "    suggested_tolerance = round(avg_dist * 1.5, 5)\n",
    "\n",
    "    print(f\"📏 Nearest neighbor distances (sample of {sample_size}):\")\n",
    "    print(f\"  ↪ Avg: {avg_dist:.6f}, Min: {min_dist:.6f}, Max: {max_dist:.6f}\")\n",
    "    print(f\"✅ Suggested Tolerance: {suggested_tolerance}\")\n",
    "\n",
    "    return suggested_tolerance\n"
   ]
  },
  {
   "cell_type": "code",
   "execution_count": null,
   "id": "0d1fc672",
   "metadata": {},
   "outputs": [
    {
     "name": "stdout",
     "output_type": "stream",
     "text": [
      "📏 Nearest neighbor distances (sample of 100):\n",
      "  ↪ Avg: 0.031318, Min: 0.002464, Max: 0.069771\n",
      "✅ Suggested Tolerance: 0.04698\n"
     ]
    }
   ],
   "source": [
    "# Assuming `points` is of shape (1024, 3)\n",
    "\n",
    "suggested_tol = suggest_tolerance_from_pointcloud(pointclouds[2])\n"
   ]
  },
  {
   "cell_type": "code",
   "execution_count": null,
   "id": "81efdc9c",
   "metadata": {},
   "outputs": [],
   "source": []
  }
 ],
 "metadata": {
  "kernelspec": {
   "display_name": "cad",
   "language": "python",
   "name": "python3"
  },
  "language_info": {
   "codemirror_mode": {
    "name": "ipython",
    "version": 3
   },
   "file_extension": ".py",
   "mimetype": "text/x-python",
   "name": "python",
   "nbconvert_exporter": "python",
   "pygments_lexer": "ipython3",
   "version": "3.9.21"
  }
 },
 "nbformat": 4,
 "nbformat_minor": 5
}
